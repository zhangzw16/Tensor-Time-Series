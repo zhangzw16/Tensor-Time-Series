{
 "cells": [
  {
   "cell_type": "code",
   "execution_count": 1,
   "metadata": {},
   "outputs": [],
   "source": [
    "import pandas as pd\n",
    "import csv\n",
    "import os\n",
    "import matplotlib.pyplot as plt\n",
    "import seaborn as sns\n",
    "\n",
    "from utils.analysis.reader import read_results, read_dataset"
   ]
  },
  {
   "cell_type": "code",
   "execution_count": 2,
   "metadata": {},
   "outputs": [],
   "source": [
    "# configs\n",
    "metircs = ['mae', 'mape', 'rmse', 'smape']\n",
    "\n",
    "Dataset = ['JONAS_NYC_bike', 'JONAS_NYC_taxi', 'Metr-LA','METRO_HZ', 'METRO_SH','PEMS03', 'PEMS07',\n",
    "           'COVID_DEATHS', 'ETT_hour', 'electricity', 'weather', 'Jena_climate', 'nasdaq100']\n",
    "\n",
    "model_order = ['DCRNN-0', 'DCRNN-2', 'DCRNN-3', 'NET3-0', 'NET3-2', 'AGCRN-0', 'AGCRN-2', \n",
    "               'MTGNN-0', 'MTGNN-2', 'ST_Norm-0', 'ST_Norm-2', 'TimesNet-0', 'StemGNN-0',\n",
    "               'AutoFormer-0', 'CrossFormer-0', 'PatchTST-0']"
   ]
  },
  {
   "cell_type": "code",
   "execution_count": 3,
   "metadata": {},
   "outputs": [],
   "source": [
    "res_path = '/home/zhuangjiaxin/workspace/TensorTSL/Tensor-Time-Series/output/csv/96-12-merge-v2.csv'\n",
    "dataset_path = '/home/zhuangjiaxin/workspace/TensorTSL/Tensor-Time-Series/datasets/Tensor-Time-Series-Dataset/Processed_Data/datasummary.csv'\n",
    "results = read_results(res_path, Dataset)\n",
    "dataset = read_dataset(dataset_path)"
   ]
  },
  {
   "cell_type": "markdown",
   "metadata": {},
   "source": [
    "1. 从数据集的类型来区分：按数据集的类别进行分类，选出每个数据集的前三名。"
   ]
  },
  {
   "cell_type": "code",
   "execution_count": 4,
   "metadata": {},
   "outputs": [
    {
     "name": "stdout",
     "output_type": "stream",
     "text": [
      "['Metr-LA', 'ETT_hour', 'PEMS20', 'PEMS04', 'PEMS08', 'PEMS03', 'PEMS07', 'PEMSBAY', 'COVID_DEATHS', 'electricity', 'weather', 'Jena_climate']\n",
      "['JONAS_NYC_taxi', 'JONAS_NYC_bike', 'METRO_HZ', 'COVID_CHI', 'COVID_US', 'METRO_SH', 'stocknet', 'nasdaq100', 'crypto12']\n"
     ]
    }
   ],
   "source": [
    "MTS_list = []\n",
    "TS_list = []\n",
    "for dataset_name in dataset:\n",
    "    if dataset[dataset_name]['type'] == 'MTS':\n",
    "        MTS_list.append(dataset_name)\n",
    "    elif dataset[dataset_name]['type'] == 'TS':\n",
    "        TS_list.append(dataset_name)\n",
    "    else:\n",
    "        print(f'Error: dataset type error:{dataset[dataset_name][\"type\"]}')\n",
    "print(MTS_list)\n",
    "print(TS_list)"
   ]
  },
  {
   "cell_type": "code",
   "execution_count": 37,
   "metadata": {},
   "outputs": [],
   "source": [
    "import numpy as np\n",
    "# MTS vs TS\n",
    "list_map = {\n",
    "    'MTS': MTS_list,\n",
    "    'TS': TS_list,\n",
    "}\n",
    "list_name = 'TS'\n",
    "metric_name = 'mae'\n",
    "top_k = 10\n",
    "for dataset_name in list_map[list_name]:\n",
    "    value_list = []\n",
    "    model_name_list = []\n",
    "    for model_name in results:\n",
    "        if dataset_name in results[model_name]:\n",
    "            res_item = results[model_name][dataset_name]\n",
    "            name = model_name\n",
    "            metric = res_item.metric\n",
    "            value  = metric[metric_name]\n",
    "            if value == 'metric_error':\n",
    "                continue\n",
    "            value = float(value)\n",
    "            if np.isnan(value):\n",
    "                continue\n",
    "            value_list.append(value)\n",
    "            model_name_list.append(name)\n",
    "    if value_list == []:\n",
    "        continue  \n",
    "      \n",
    "    combine = zip(value_list, model_name_list)\n",
    "    sorted_combine = sorted(combine, key=lambda x: x[0])\n",
    "    value_list, model_name_list = zip(*sorted_combine)\n",
    "    # mae_list = list(mae_list)\n",
    "    value_list = list(value_list)\n",
    "    model_name_list = list(model_name_list)\n",
    "    value_list = value_list[:top_k]\n",
    "    model_name_list = model_name_list[:top_k]\n",
    "    # 创建条形图\n",
    "    plt.figure(figsize=(14, 8))\n",
    "    bars = plt.bar(model_name_list, value_list, color='skyblue')\n",
    "\n",
    "    # 添加标题和轴标签\n",
    "    plt.title(f'{metric_name.upper()} for {dataset_name} (TOP {top_k})')\n",
    "    plt.xlabel('Model')\n",
    "    plt.ylabel(metric_name.upper())\n",
    "    plt.xticks(rotation=45)\n",
    "    for bar in bars:\n",
    "        height = bar.get_height()\n",
    "        if np.isfinite(height):\n",
    "            plt.text(bar.get_x() + bar.get_width() / 2, height, round(height, 2), ha='center', va='bottom')\n",
    "    plt.savefig(os.path.join('/home/zhuangjiaxin/workspace/TensorTSL/Tensor-Time-Series/output/ipynb_img', f'{metric_name}_{list_name}_{dataset_name}.png'))\n",
    "    plt.close()\n",
    "    \n",
    "\n",
    "    \n"
   ]
  },
  {
   "cell_type": "markdown",
   "metadata": {},
   "source": [
    "2. 绘制 datasets 的雷达图"
   ]
  },
  {
   "cell_type": "code",
   "execution_count": 5,
   "metadata": {},
   "outputs": [],
   "source": [
    "import numpy as np\n",
    "DatasetMap = {\n",
    "    \"Traffic\": ['JONAS_NYC_bike', 'JONAS_NYC_taxi', 'Metr-LA','METRO_HZ', 'METRO_SH','PEMS03', 'PEMS07'],\n",
    "    \"Natural\": ['COVID_DEATHS'],\n",
    "    \"Energy\":  ['ETT_hour', 'electricity'],\n",
    "    \"Weather\": ['weather', 'Jena_climate'],\n",
    "    \"Finance\": ['nasdaq100'],\n",
    "}"
   ]
  },
  {
   "cell_type": "code",
   "execution_count": 8,
   "metadata": {},
   "outputs": [],
   "source": [
    "labels = ['featrue_corr_mean', 'feature_corr_std', 'dataset_mean_dis', 'dataset_std_dis', 'node_corr_mean', 'node_corr_std']\n",
    "data = []\n",
    "names = []\n",
    "dataset_type = 'Traffic-Finance'\n",
    "for dataset_name in dataset:\n",
    "    if dataset_name in DatasetMap['Traffic'] or dataset_name in DatasetMap['Finance']:#or dataset_name in DatasetMap['Energy'] or dataset_name in DatasetMap['Weather']:\n",
    "        item = dataset[dataset_name]\n",
    "        data.append([item['feature_corr_mean'], item['feature_corr_std'], item['dataset_mean_dis'], item['dataset_std_dis'], item['node_corr_mean'], item['node_corr_std']])\n",
    "        names.append(dataset_name)\n",
    "labels = np.array(labels)\n",
    "data = np.array(data)\n",
    "min_data = data.min(axis=0)\n",
    "max_data = data.max(axis=0)\n",
    "ranges = max_data - min_data\n",
    "# data = (data - min_data) / ranges\n",
    "data = np.nan_to_num(data, nan=0.0)\n",
    "# print(data)\n",
    "angles = np.linspace(0, 2 * np.pi, len(labels), endpoint=False).tolist()\n",
    "data = np.concatenate((data, data[:,[0]]), axis=1)\n",
    "angles += angles[:1]\n",
    "\n",
    "fig, ax = plt.subplots(figsize=(12, 10), subplot_kw=dict(polar=True))\n",
    "colors = sns.color_palette(\"Set1\", len(data))\n",
    "color_pos = 0\n",
    "for i in data:\n",
    "    c = colors[color_pos]\n",
    "    name = names[color_pos]\n",
    "    ax.fill(angles, i, color=c, alpha=0.3, label=f'{name}')\n",
    "    ax.plot(angles, i, color=c, linewidth=1)\n",
    "    color_pos += 1\n",
    "\n",
    "ax.set_yticklabels([])\n",
    "ax.set_xticks(angles[:-1])\n",
    "ax.set_xticklabels(labels, fontsize=12)\n",
    "ax.legend(loc='right', bbox_to_anchor=(1.2, 0.85))\n",
    "plt.savefig(os.path.join('/home/zhuangjiaxin/workspace/TensorTSL/Tensor-Time-Series/output/ipynb_img', f'Radar_{dataset_type}.png'))\n",
    "plt.close()"
   ]
  }
 ],
 "metadata": {
  "kernelspec": {
   "display_name": "Diff",
   "language": "python",
   "name": "python3"
  },
  "language_info": {
   "codemirror_mode": {
    "name": "ipython",
    "version": 3
   },
   "file_extension": ".py",
   "mimetype": "text/x-python",
   "name": "python",
   "nbconvert_exporter": "python",
   "pygments_lexer": "ipython3",
   "version": "3.11.9"
  }
 },
 "nbformat": 4,
 "nbformat_minor": 2
}
